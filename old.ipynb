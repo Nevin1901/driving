{
 "cells": [
  {
   "cell_type": "code",
   "execution_count": null,
   "metadata": {},
   "outputs": [],
   "source": []
  },
  {
   "cell_type": "code",
   "execution_count": null,
   "metadata": {},
   "outputs": [
    {
     "ename": "FileNotFoundError",
     "evalue": "[Errno 2] No such file or directory: '/media/nevin/Trash Games1/Downloads/comma2k19/extracted/Chunk_1/b0c9d2329ad1606b_2018-07-27--06-03-57/14/processed_log/CAN/steering_angle/t'",
     "output_type": "error",
     "traceback": [
      "\u001b[0;31m---------------------------------------------------------------------------\u001b[0m\n",
      "\u001b[0;31mFileNotFoundError\u001b[0m                         Traceback (most recent call last)\n",
      "\u001b[1;32m/home/nevin/Desktop/driving/main.ipynb Cell 2'\u001b[0m in \u001b[0;36m<cell line: 3>\u001b[0;34m()\u001b[0m\n",
      "\u001b[1;32m      <a href='vscode-notebook-cell:/home/nevin/Desktop/driving/main.ipynb#ch0000001?line=0'>1</a>\u001b[0m vid_index \u001b[39m=\u001b[39m \u001b[39m14\u001b[39m\n",
      "\u001b[0;32m----> <a href='vscode-notebook-cell:/home/nevin/Desktop/driving/main.ipynb#ch0000001?line=2'>3</a>\u001b[0m angle_t \u001b[39m=\u001b[39m np\u001b[39m.\u001b[39;49mload(\u001b[39mf\u001b[39;49m\u001b[39m\"\u001b[39;49m\u001b[39m/media/nevin/Trash Games1/Downloads/comma2k19/extracted/Chunk_1/b0c9d2329ad1606b_2018-07-27--06-03-57/\u001b[39;49m\u001b[39m{\u001b[39;49;00mvid_index\u001b[39m}\u001b[39;49;00m\u001b[39m/processed_log/CAN/steering_angle/t\u001b[39;49m\u001b[39m\"\u001b[39;49m)\n",
      "\u001b[1;32m      <a href='vscode-notebook-cell:/home/nevin/Desktop/driving/main.ipynb#ch0000001?line=3'>4</a>\u001b[0m angle_v \u001b[39m=\u001b[39m np\u001b[39m.\u001b[39mload(\u001b[39mf\u001b[39m\u001b[39m\"\u001b[39m\u001b[39m/media/nevin/Trash Games1/Downloads/comma2k19/extracted/Chunk_1/b0c9d2329ad1606b_2018-07-27--06-03-57/\u001b[39m\u001b[39m{\u001b[39;00mvid_index\u001b[39m}\u001b[39;00m\u001b[39m/processed_log/CAN/steering_angle/value\u001b[39m\u001b[39m\"\u001b[39m)\n",
      "\u001b[1;32m      <a href='vscode-notebook-cell:/home/nevin/Desktop/driving/main.ipynb#ch0000001?line=4'>5</a>\u001b[0m speed \u001b[39m=\u001b[39m np\u001b[39m.\u001b[39mload(\u001b[39mf\u001b[39m\u001b[39m\"\u001b[39m\u001b[39m/media/nevin/Trash Games1/Downloads/comma2k19/extracted/Chunk_1/b0c9d2329ad1606b_2018-07-27--06-03-57/\u001b[39m\u001b[39m{\u001b[39;00mvid_index\u001b[39m}\u001b[39;00m\u001b[39m/processed_log/CAN/speed/value\u001b[39m\u001b[39m\"\u001b[39m)\n",
      "\n",
      "File \u001b[0;32m~/.local/lib/python3.8/site-packages/numpy/lib/npyio.py:416\u001b[0m, in \u001b[0;36mload\u001b[0;34m(file, mmap_mode, allow_pickle, fix_imports, encoding)\u001b[0m\n",
      "\u001b[1;32m    <a href='file:///home/nevin/.local/lib/python3.8/site-packages/numpy/lib/npyio.py?line=413'>414</a>\u001b[0m     own_fid \u001b[39m=\u001b[39m \u001b[39mFalse\u001b[39;00m\n",
      "\u001b[1;32m    <a href='file:///home/nevin/.local/lib/python3.8/site-packages/numpy/lib/npyio.py?line=414'>415</a>\u001b[0m \u001b[39melse\u001b[39;00m:\n",
      "\u001b[0;32m--> <a href='file:///home/nevin/.local/lib/python3.8/site-packages/numpy/lib/npyio.py?line=415'>416</a>\u001b[0m     fid \u001b[39m=\u001b[39m stack\u001b[39m.\u001b[39menter_context(\u001b[39mopen\u001b[39;49m(os_fspath(file), \u001b[39m\"\u001b[39;49m\u001b[39mrb\u001b[39;49m\u001b[39m\"\u001b[39;49m))\n",
      "\u001b[1;32m    <a href='file:///home/nevin/.local/lib/python3.8/site-packages/numpy/lib/npyio.py?line=416'>417</a>\u001b[0m     own_fid \u001b[39m=\u001b[39m \u001b[39mTrue\u001b[39;00m\n",
      "\u001b[1;32m    <a href='file:///home/nevin/.local/lib/python3.8/site-packages/numpy/lib/npyio.py?line=418'>419</a>\u001b[0m \u001b[39m# Code to distinguish from NumPy binary files and pickles.\u001b[39;00m\n",
      "\n",
      "\u001b[0;31mFileNotFoundError\u001b[0m: [Errno 2] No such file or directory: '/media/nevin/Trash Games1/Downloads/comma2k19/extracted/Chunk_1/b0c9d2329ad1606b_2018-07-27--06-03-57/14/processed_log/CAN/steering_angle/t'"
     ]
    }
   ],
   "source": [
    "vid_index = 14\n",
    "\n",
    "angle_t = np.load(f\"/media/nevin/Trash Games1/Downloads/comma2k19/extracted/Chunk_1/b0c9d2329ad1606b_2018-07-27--06-03-57/{vid_index}/processed_log/CAN/steering_angle/t\")\n",
    "angle_v = np.load(f\"/media/nevin/Trash Games1/Downloads/comma2k19/extracted/Chunk_1/b0c9d2329ad1606b_2018-07-27--06-03-57/{vid_index}/processed_log/CAN/steering_angle/value\")\n",
    "speed = np.load(f\"/media/nevin/Trash Games1/Downloads/comma2k19/extracted/Chunk_1/b0c9d2329ad1606b_2018-07-27--06-03-57/{vid_index}/processed_log/CAN/speed/value\")\n",
    "frame_times = np.load(f\"/media/nevin/Trash Games1/Downloads/comma2k19/extracted/Chunk_1/b0c9d2329ad1606b_2018-07-27--06-03-57/{vid_index}/global_pose/frame_times\")\n",
    "vid = cv.VideoCapture(f\"/media/nevin/Trash Games1/Downloads/comma2k19/extracted/Chunk_1/b0c9d2329ad1606b_2018-07-27--06-03-57/{vid_index}/video.hevc\")\n",
    "wheel = cv.imread(\"/home/nevin/Downloads/wheel.png\")"
   ]
  },
  {
   "cell_type": "code",
   "execution_count": null,
   "metadata": {},
   "outputs": [
    {
     "name": "stdout",
     "output_type": "stream",
     "text": [
      "(4973,)\n",
      "(4973,)\n",
      "9674.089929\n"
     ]
    }
   ],
   "source": [
    "print(angle_t.shape)\n",
    "print(angle_v.shape)\n",
    "print(frame_times[0])"
   ]
  },
  {
   "cell_type": "code",
   "execution_count": null,
   "metadata": {},
   "outputs": [
    {
     "ename": "NameError",
     "evalue": "name 'vid' is not defined",
     "output_type": "error",
     "traceback": [
      "\u001b[0;31m---------------------------------------------------------------------------\u001b[0m\n",
      "\u001b[0;31mNameError\u001b[0m                                 Traceback (most recent call last)\n",
      "\u001b[1;32m/home/nevin/Desktop/driving/main.ipynb Cell 5'\u001b[0m in \u001b[0;36m<cell line: 1>\u001b[0;34m()\u001b[0m\n",
      "\u001b[0;32m----> <a href='vscode-notebook-cell:/home/nevin/Desktop/driving/main.ipynb#ch0000004?line=0'>1</a>\u001b[0m \u001b[39mif\u001b[39;00m vid\u001b[39m.\u001b[39misOpened() \u001b[39m==\u001b[39m \u001b[39mFalse\u001b[39;00m:\n",
      "\u001b[1;32m      <a href='vscode-notebook-cell:/home/nevin/Desktop/driving/main.ipynb#ch0000004?line=1'>2</a>\u001b[0m     \u001b[39mprint\u001b[39m(\u001b[39m\"\u001b[39m\u001b[39merror opening video\u001b[39m\u001b[39m\"\u001b[39m)\n",
      "\u001b[1;32m      <a href='vscode-notebook-cell:/home/nevin/Desktop/driving/main.ipynb#ch0000004?line=3'>4</a>\u001b[0m i \u001b[39m=\u001b[39m \u001b[39m0\u001b[39m\n",
      "\n",
      "\u001b[0;31mNameError\u001b[0m: name 'vid' is not defined"
     ]
    }
   ],
   "source": [
    "if vid.isOpened() == False:\n",
    "    print(\"error opening video\")\n",
    "\n",
    "i = 0\n",
    "\n",
    "while vid.isOpened():\n",
    "    status, frame = vid.read()\n",
    "\n",
    "    if status == False:\n",
    "        break\n",
    "\n",
    "    # rot_idx = angle_t.index(frame_times[i])\n",
    "\n",
    "    rot_idx = find_nearest(angle_t, frame_times[i])\n",
    "    frame = cv.putText(frame, str(angle_v[rot_idx]), (0, 100), cv.FONT_HERSHEY_SIMPLEX, 3, (0, 255, 0), 2, cv.LINE_AA)\n",
    "    rot_wheel = rotate_image(wheel, angle_v[rot_idx])\n",
    "\n",
    "    # frame = np.concatenate((frame, rot_wheel), axis=1)\n",
    "    # frame = rotate_image(frame, angle_v[i])\n",
    "    cv.imshow(\"frame\", frame)\n",
    "    cv.imshow(\"wheel\", rot_wheel)\n",
    "    i += 1\n",
    "\n",
    "    key = cv.waitKey()\n",
    "\n",
    "    if key == 113:\n",
    "        cv.destroyAllWindows()\n",
    "        break\n",
    "\n",
    "\n",
    "print(i)\n",
    "cv.destroyAllWindows()"
   ]
  }
 ],
 "metadata": {
  "language_info": {
   "name": "python"
  },
  "orig_nbformat": 4
 },
 "nbformat": 4,
 "nbformat_minor": 2
}
