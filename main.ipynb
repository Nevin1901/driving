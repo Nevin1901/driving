{
 "cells": [
  {
   "cell_type": "code",
   "execution_count": 53,
   "metadata": {},
   "outputs": [],
   "source": [
    "import numpy as np\n",
    "import cv2 as cv\n",
    "import math"
   ]
  },
  {
   "cell_type": "code",
   "execution_count": 55,
   "metadata": {},
   "outputs": [],
   "source": [
    "vid_index = 9\n",
    "\n",
    "angle_t = np.load(f\"/media/nevin/Trash Games1/Downloads/comma2k19/extracted/Chunk_1/b0c9d2329ad1606b_2018-07-27--06-03-57/{vid_index}/processed_log/CAN/steering_angle/t\")\n",
    "angle_v = np.load(f\"/media/nevin/Trash Games1/Downloads/comma2k19/extracted/Chunk_1/b0c9d2329ad1606b_2018-07-27--06-03-57/{vid_index}/processed_log/CAN/steering_angle/value\")\n",
    "speed = np.load(f\"/media/nevin/Trash Games1/Downloads/comma2k19/extracted/Chunk_1/b0c9d2329ad1606b_2018-07-27--06-03-57/{vid_index}/processed_log/CAN/speed/value\")\n",
    "frame_times = np.load(f\"/media/nevin/Trash Games1/Downloads/comma2k19/extracted/Chunk_1/b0c9d2329ad1606b_2018-07-27--06-03-57/{vid_index}/global_pose/frame_times\")\n",
    "vid = cv.VideoCapture(f\"/media/nevin/Trash Games1/Downloads/comma2k19/extracted/Chunk_1/b0c9d2329ad1606b_2018-07-27--06-03-57/{vid_index}/video.hevc\")\n",
    "wheel = cv.imread(\"/home/nevin/Downloads/wheel.png\")"
   ]
  },
  {
   "cell_type": "code",
   "execution_count": 44,
   "metadata": {},
   "outputs": [
    {
     "name": "stdout",
     "output_type": "stream",
     "text": [
      "(4975,)\n",
      "(4975,)\n",
      "9374.094099\n"
     ]
    }
   ],
   "source": [
    "print(angle_t.shape)\n",
    "print(angle_v.shape)\n",
    "print(frame_times[0])"
   ]
  },
  {
   "cell_type": "code",
   "execution_count": 63,
   "metadata": {},
   "outputs": [
    {
     "name": "stdout",
     "output_type": "stream",
     "text": [
      "0\n"
     ]
    }
   ],
   "source": [
    "def rotate_image(image, angle):\n",
    "    image_center = tuple(np.array(image.shape[1::-1]) / 2)\n",
    "    rot_mat = cv.getRotationMatrix2D(image_center, angle, 1.0)\n",
    "    result = cv.warpAffine(image, rot_mat, image.shape[1::-1], flags=cv.INTER_LINEAR)\n",
    "    return result\n",
    "\n",
    "\n",
    "def find_nearest(array, value):\n",
    "    idx = np.searchsorted(array, value, side=\"left\")\n",
    "    if idx > 0 and (idx == len(array) or math.fabs(value - array[idx-1]) < math.fabs(value - array[idx])):\n",
    "        return idx-1\n",
    "    \n",
    "    else:\n",
    "        return idx\n",
    "\n",
    "\n",
    "if vid.isOpened() == False:\n",
    "    print(\"error opening video\")\n",
    "\n",
    "i = 0\n",
    "\n",
    "while vid.isOpened():\n",
    "    status, frame = vid.read()\n",
    "\n",
    "    if status == False:\n",
    "        break\n",
    "\n",
    "    # rot_idx = angle_t.index(frame_times[i])\n",
    "\n",
    "    rot_idx = find_nearest(angle_t, frame_times[i])\n",
    "    frame = cv.putText(frame, str(angle_v[rot_idx]), (0, 100), cv.FONT_HERSHEY_SIMPLEX, 3, (0, 255, 0), 2, cv.LINE_AA)\n",
    "    rot_wheel = rotate_image(wheel, angle_v[rot_idx])\n",
    "\n",
    "    # frame = np.concatenate((frame, rot_wheel), axis=1)\n",
    "    # frame = rotate_image(frame, angle_v[i])\n",
    "    cv.imshow(\"frame\", frame)\n",
    "    cv.imshow(\"wheel\", rot_wheel)\n",
    "    i += 1\n",
    "\n",
    "    key = cv.waitKey()\n",
    "\n",
    "    if key == 113:\n",
    "        cv.destroyAllWindows()\n",
    "        break\n",
    "\n",
    "\n",
    "print(i)\n",
    "cv.destroyAllWindows()"
   ]
  },
  {
   "cell_type": "code",
   "execution_count": null,
   "metadata": {},
   "outputs": [],
   "source": []
  }
 ],
 "metadata": {
  "interpreter": {
   "hash": "44a7e8bb18bc21ad5a0a653f082c7df91354cfeb6d74e97b2b6f41bba6c7f85f"
  },
  "kernelspec": {
   "display_name": "Python 3.8.10 64-bit ('3.8.10')",
   "language": "python",
   "name": "python3"
  },
  "language_info": {
   "codemirror_mode": {
    "name": "ipython",
    "version": 3
   },
   "file_extension": ".py",
   "mimetype": "text/x-python",
   "name": "python",
   "nbconvert_exporter": "python",
   "pygments_lexer": "ipython3",
   "version": "3.8.10"
  },
  "orig_nbformat": 4
 },
 "nbformat": 4,
 "nbformat_minor": 2
}
