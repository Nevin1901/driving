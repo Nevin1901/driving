{
 "cells": [
  {
   "cell_type": "code",
   "execution_count": 2,
   "metadata": {},
   "outputs": [],
   "source": [
    "import numpy as np\n",
    "import torch\n",
    "from torch.utils.data import Dataset, DataLoader\n",
    "import cv2 as cv\n",
    "import math\n",
    "import sys\n",
    "import os"
   ]
  },
  {
   "cell_type": "code",
   "execution_count": 5,
   "metadata": {},
   "outputs": [],
   "source": [
    "vid_index = 14\n",
    "\n",
    "angle_t = np.load(f\"/media/nevin/Trash Games1/Downloads/comma2k19/extracted/Chunk_1/b0c9d2329ad1606b_2018-07-27--06-03-57/{vid_index}/processed_log/CAN/steering_angle/t\")\n",
    "angle_v = np.load(f\"/media/nevin/Trash Games1/Downloads/comma2k19/extracted/Chunk_1/b0c9d2329ad1606b_2018-07-27--06-03-57/{vid_index}/processed_log/CAN/steering_angle/value\")\n",
    "speed = np.load(f\"/media/nevin/Trash Games1/Downloads/comma2k19/extracted/Chunk_1/b0c9d2329ad1606b_2018-07-27--06-03-57/{vid_index}/processed_log/CAN/speed/value\")\n",
    "frame_times = np.load(f\"/media/nevin/Trash Games1/Downloads/comma2k19/extracted/Chunk_1/b0c9d2329ad1606b_2018-07-27--06-03-57/{vid_index}/global_pose/frame_times\")\n",
    "vid = cv.VideoCapture(f\"/media/nevin/Trash Games1/Downloads/comma2k19/extracted/Chunk_1/b0c9d2329ad1606b_2018-07-27--06-03-57/{vid_index}/video.hevc\")\n",
    "wheel = cv.imread(\"/home/nevin/Downloads/wheel.png\")"
   ]
  },
  {
   "cell_type": "code",
   "execution_count": 3,
   "metadata": {},
   "outputs": [
    {
     "name": "stdout",
     "output_type": "stream",
     "text": [
      "(4973,)\n",
      "(4973,)\n",
      "9674.089929\n"
     ]
    }
   ],
   "source": [
    "print(angle_t.shape)\n",
    "print(angle_v.shape)\n",
    "print(frame_times[0])"
   ]
  },
  {
   "cell_type": "code",
   "execution_count": 3,
   "metadata": {},
   "outputs": [],
   "source": [
    "def rotate_image(image, angle):\n",
    "    image_center = tuple(np.array(image.shape[1::-1]) / 2)\n",
    "    rot_mat = cv.getRotationMatrix2D(image_center, angle, 1.0)\n",
    "    result = cv.warpAffine(image, rot_mat, image.shape[1::-1], flags=cv.INTER_LINEAR)\n",
    "    return result\n",
    "\n",
    "\n",
    "def find_nearest(array, value):\n",
    "    idx = np.searchsorted(array, value, side=\"left\")\n",
    "    if idx > 0 and (idx == len(array) or math.fabs(value - array[idx-1]) < math.fabs(value - array[idx])):\n",
    "        return idx-1\n",
    "    \n",
    "    else:\n",
    "        return idx\n",
    "\n"
   ]
  },
  {
   "cell_type": "code",
   "execution_count": 4,
   "metadata": {},
   "outputs": [
    {
     "ename": "NameError",
     "evalue": "name 'vid' is not defined",
     "output_type": "error",
     "traceback": [
      "\u001b[0;31m---------------------------------------------------------------------------\u001b[0m",
      "\u001b[0;31mNameError\u001b[0m                                 Traceback (most recent call last)",
      "\u001b[1;32m/home/nevin/Desktop/driving/main.ipynb Cell 5'\u001b[0m in \u001b[0;36m<cell line: 1>\u001b[0;34m()\u001b[0m\n\u001b[0;32m----> <a href='vscode-notebook-cell:/home/nevin/Desktop/driving/main.ipynb#ch0000004?line=0'>1</a>\u001b[0m \u001b[39mif\u001b[39;00m vid\u001b[39m.\u001b[39misOpened() \u001b[39m==\u001b[39m \u001b[39mFalse\u001b[39;00m:\n\u001b[1;32m      <a href='vscode-notebook-cell:/home/nevin/Desktop/driving/main.ipynb#ch0000004?line=1'>2</a>\u001b[0m     \u001b[39mprint\u001b[39m(\u001b[39m\"\u001b[39m\u001b[39merror opening video\u001b[39m\u001b[39m\"\u001b[39m)\n\u001b[1;32m      <a href='vscode-notebook-cell:/home/nevin/Desktop/driving/main.ipynb#ch0000004?line=3'>4</a>\u001b[0m i \u001b[39m=\u001b[39m \u001b[39m0\u001b[39m\n",
      "\u001b[0;31mNameError\u001b[0m: name 'vid' is not defined"
     ]
    }
   ],
   "source": [
    "if vid.isOpened() == False:\n",
    "    print(\"error opening video\")\n",
    "\n",
    "i = 0\n",
    "\n",
    "while vid.isOpened():\n",
    "    status, frame = vid.read()\n",
    "\n",
    "    if status == False:\n",
    "        break\n",
    "\n",
    "    # rot_idx = angle_t.index(frame_times[i])\n",
    "\n",
    "    rot_idx = find_nearest(angle_t, frame_times[i])\n",
    "    frame = cv.putText(frame, str(angle_v[rot_idx]), (0, 100), cv.FONT_HERSHEY_SIMPLEX, 3, (0, 255, 0), 2, cv.LINE_AA)\n",
    "    rot_wheel = rotate_image(wheel, angle_v[rot_idx])\n",
    "\n",
    "    # frame = np.concatenate((frame, rot_wheel), axis=1)\n",
    "    # frame = rotate_image(frame, angle_v[i])\n",
    "    cv.imshow(\"frame\", frame)\n",
    "    cv.imshow(\"wheel\", rot_wheel)\n",
    "    i += 1\n",
    "\n",
    "    key = cv.waitKey()\n",
    "\n",
    "    if key == 113:\n",
    "        cv.destroyAllWindows()\n",
    "        break\n",
    "\n",
    "\n",
    "print(i)\n",
    "cv.destroyAllWindows()"
   ]
  },
  {
   "cell_type": "code",
   "execution_count": 5,
   "metadata": {},
   "outputs": [
    {
     "ename": "FileNotFoundError",
     "evalue": "[Errno 2] No such file or directory: '/media/nevin/Trash Games1/Downloads/comma2k19/extracted/Chunk_1'",
     "output_type": "error",
     "traceback": [
      "\u001b[0;31m---------------------------------------------------------------------------\u001b[0m",
      "\u001b[0;31mFileNotFoundError\u001b[0m                         Traceback (most recent call last)",
      "\u001b[1;32m/home/nevin/Desktop/driving/main.ipynb Cell 6'\u001b[0m in \u001b[0;36m<cell line: 11>\u001b[0;34m()\u001b[0m\n\u001b[1;32m      <a href='vscode-notebook-cell:/home/nevin/Desktop/driving/main.ipynb#ch0000005?line=6'>7</a>\u001b[0m \u001b[39m# Pre process data\u001b[39;00m\n\u001b[1;32m      <a href='vscode-notebook-cell:/home/nevin/Desktop/driving/main.ipynb#ch0000005?line=8'>9</a>\u001b[0m base_dir \u001b[39m=\u001b[39m \u001b[39m\"\u001b[39m\u001b[39m/media/nevin/Trash Games1/Downloads/comma2k19/extracted/Chunk_1\u001b[39m\u001b[39m\"\u001b[39m\n\u001b[0;32m---> <a href='vscode-notebook-cell:/home/nevin/Desktop/driving/main.ipynb#ch0000005?line=10'>11</a>\u001b[0m dirs \u001b[39m=\u001b[39m os\u001b[39m.\u001b[39;49mlistdir(base_dir)\n\u001b[1;32m     <a href='vscode-notebook-cell:/home/nevin/Desktop/driving/main.ipynb#ch0000005?line=12'>13</a>\u001b[0m \u001b[39mfor\u001b[39;00m _dir \u001b[39min\u001b[39;00m dirs:\n\u001b[1;32m     <a href='vscode-notebook-cell:/home/nevin/Desktop/driving/main.ipynb#ch0000005?line=13'>14</a>\u001b[0m     project_dir \u001b[39m=\u001b[39m os\u001b[39m.\u001b[39mpath\u001b[39m.\u001b[39mjoin(base_dir, _dir)\n",
      "\u001b[0;31mFileNotFoundError\u001b[0m: [Errno 2] No such file or directory: '/media/nevin/Trash Games1/Downloads/comma2k19/extracted/Chunk_1'"
     ]
    }
   ],
   "source": [
    "class FrameWithAngle(object):\n",
    "    def __init__(self, frame, angle):\n",
    "        self.frame = frame\n",
    "        self.angle = angle\n",
    "\n",
    "\n",
    "# Pre process data\n",
    "\n",
    "base_dir = \"/media/nevin/Trash Games1/Downloads/comma2k19/extracted/Chunk_1\"\n",
    "\n",
    "dirs = os.listdir(base_dir)\n",
    "\n",
    "for _dir in dirs:\n",
    "    project_dir = os.path.join(base_dir, _dir)\n",
    "    segments = os.listdir(project_dir)\n",
    "\n",
    "    for segment in segments:\n",
    "        seg_dir = os.path.join(project_dir, segment)\n",
    "        video_path = os.path.join(seg_dir, \"video.hevc\")\n",
    "\n",
    "        frame_times = np.load(os.path.join(seg_dir, \"global_pose/\", \"frame_times\"))\n",
    "        angle_t = np.load(os.path.join(seg_dir, \"processed_log/\", \"CAN/\", \"steering_angle/\", \"t\"))\n",
    "        angle_v = np.load(os.path.join(seg_dir, \"processed_log/\", \"CAN/\", \"steering_angle/\", \"value\"))\n",
    "\n",
    "        video = cv.VideoCapture(video_path)\n",
    "\n",
    "        frames = []\n",
    "\n",
    "        print(f\"reading {video_path}\")\n",
    "\n",
    "        if video.isOpened() == False:\n",
    "            print(f\"Failed to open video {video_path}\")\n",
    "            continue\n",
    "\n",
    "        i = 0\n",
    "\n",
    "        while video.isOpened():\n",
    "            status, frame = video.read()\n",
    "\n",
    "            if status == False:\n",
    "                break\n",
    "\n",
    "            # find the nearest frame which matches the angle input\n",
    "            rot_idx = find_nearest(angle_t, frame_times[i])\n",
    "            angle = angle_v[rot_idx]\n",
    "\n",
    "            frames.append(FrameWithAngle(frame, angle))\n",
    "            i += 1\n",
    "        \n",
    "\n",
    "        # print(frames)\n",
    "        print(sys.getsizeof(frames))\n",
    "        break\n",
    "\n",
    "    # print(files)\n",
    "\n",
    "# print(dirs)"
   ]
  },
  {
   "cell_type": "code",
   "execution_count": null,
   "metadata": {},
   "outputs": [],
   "source": [
    "class DriveDataset(Dataset):\n",
    "    def __init__(self):\n",
    "        pass"
   ]
  }
 ],
 "metadata": {
  "interpreter": {
   "hash": "44a7e8bb18bc21ad5a0a653f082c7df91354cfeb6d74e97b2b6f41bba6c7f85f"
  },
  "kernelspec": {
   "display_name": "Python 3.8.10 64-bit ('3.8.10')",
   "language": "python",
   "name": "python3"
  },
  "language_info": {
   "codemirror_mode": {
    "name": "ipython",
    "version": 3
   },
   "file_extension": ".py",
   "mimetype": "text/x-python",
   "name": "python",
   "nbconvert_exporter": "python",
   "pygments_lexer": "ipython3",
   "version": "3.8.10"
  },
  "orig_nbformat": 4
 },
 "nbformat": 4,
 "nbformat_minor": 2
}
